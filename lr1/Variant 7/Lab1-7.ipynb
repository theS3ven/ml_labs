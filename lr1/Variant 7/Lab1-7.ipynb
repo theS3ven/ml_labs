{
 "cells": [
  {
   "cell_type": "markdown",
   "id": "ec6e7d18-6a6e-4a51-a7cd-0a1152604973",
   "metadata": {},
   "source": [
    "## Лабораторная работа №1 | Вариант 7"
   ]
  },
  {
   "cell_type": "markdown",
   "id": "277877ce-f982-4711-a6a6-2a4a90871409",
   "metadata": {},
   "source": [
    "Выполнил: Коваль М. М8О-211Б-23"
   ]
  },
  {
   "cell_type": "markdown",
   "id": "031f025d-84dc-470f-b839-456a76d9636b",
   "metadata": {},
   "source": [
    "### 1. Numpy"
   ]
  },
  {
   "cell_type": "code",
   "execution_count": 2,
   "id": "8a2c6f8d-e85b-4982-ba6d-77ffdb7d53e8",
   "metadata": {},
   "outputs": [],
   "source": [
    "import numpy as np"
   ]
  },
  {
   "cell_type": "markdown",
   "id": "6ff3559d-5f3e-4540-9a31-bfb9f42a23da",
   "metadata": {},
   "source": [
    "1. What is the result of the following expression?\n",
    "\n",
    "```python\n",
    "0 * np.nan\n",
    "np.nan == np.nan\n",
    "np.inf > np.nan\n",
    "np.nan - np.nan\n",
    "np.nan in set([np.nan])\n",
    "0.3 == 3 * 0.1\n",
    "```"
   ]
  },
  {
   "cell_type": "markdown",
   "id": "d3a68d30",
   "metadata": {},
   "source": [
    "```python\n",
    "nan\n",
    "False\n",
    "False\n",
    "nan\n",
    "True\n",
    "False\n",
    "```"
   ]
  },
  {
   "cell_type": "markdown",
   "id": "0243a0f6-1905-4e2d-9572-9ba49dc003a8",
   "metadata": {},
   "source": [
    "2. Создайте матрицу 5х5 со значениями 1, 2, 3, 4 ниже диагонали"
   ]
  },
  {
   "cell_type": "code",
   "execution_count": 90,
   "id": "ec6ae581-5adf-459c-bdc7-8b015d9529f6",
   "metadata": {},
   "outputs": [
    {
     "data": {
      "text/plain": [
       "array([[0, 0, 0, 0, 0],\n",
       "       [1, 0, 0, 0, 0],\n",
       "       [2, 2, 0, 0, 0],\n",
       "       [3, 3, 3, 0, 0],\n",
       "       [4, 4, 4, 4, 0]])"
      ]
     },
     "execution_count": 90,
     "metadata": {},
     "output_type": "execute_result"
    }
   ],
   "source": [
    "answer = np.repeat(np.arange(5), 5).reshape((5, 5))\n",
    "np.tril(answer, -1)"
   ]
  },
  {
   "cell_type": "markdown",
   "id": "8c7d3811-a555-4c02-ada8-e4a70b9dee46",
   "metadata": {},
   "source": [
    "3. Создайте матрицу 8х8 и заполните ее паттерном шахматной доски"
   ]
  },
  {
   "cell_type": "code",
   "execution_count": 129,
   "id": "12d0ed34-908c-4840-8b81-457e64dd7b0b",
   "metadata": {},
   "outputs": [
    {
     "data": {
      "text/plain": [
       "array([[0, 1, 0, 1, 0, 1, 0, 1],\n",
       "       [1, 0, 1, 0, 1, 0, 1, 0],\n",
       "       [0, 1, 0, 1, 0, 1, 0, 1],\n",
       "       [1, 0, 1, 0, 1, 0, 1, 0],\n",
       "       [0, 1, 0, 1, 0, 1, 0, 1],\n",
       "       [1, 0, 1, 0, 1, 0, 1, 0],\n",
       "       [0, 1, 0, 1, 0, 1, 0, 1],\n",
       "       [1, 0, 1, 0, 1, 0, 1, 0]])"
      ]
     },
     "execution_count": 129,
     "metadata": {},
     "output_type": "execute_result"
    }
   ],
   "source": [
    "row = np.arange(8).reshape(-1, 1)\n",
    "col = np.arange(8)\n",
    "matrix = (row + col) % 2\n",
    "matrix"
   ]
  },
  {
   "cell_type": "markdown",
   "id": "b7ca56e6-a194-4c42-b8a2-307fcf40f648",
   "metadata": {},
   "source": [
    "4. Умножте матрицу 5х3 и 3х2 (матричное умножение)"
   ]
  },
  {
   "cell_type": "code",
   "execution_count": 39,
   "id": "1b1d64cd-0e28-400f-8d49-a1274947e150",
   "metadata": {},
   "outputs": [
    {
     "name": "stdout",
     "output_type": "stream",
     "text": [
      "1)\n",
      "[[ 0  1  2]\n",
      " [ 3  4  5]\n",
      " [ 6  7  8]\n",
      " [ 9 10 11]\n",
      " [12 13 14]]\n",
      "2)\n",
      "[[0 1]\n",
      " [2 3]\n",
      " [4 5]]\n",
      "\n",
      "answer:\n",
      "[[ 10  13]\n",
      " [ 28  40]\n",
      " [ 46  67]\n",
      " [ 64  94]\n",
      " [ 82 121]]\n"
     ]
    },
    {
     "data": {
      "text/plain": [
       "np.True_"
      ]
     },
     "execution_count": 39,
     "metadata": {},
     "output_type": "execute_result"
    }
   ],
   "source": [
    "first_array = np.arange(15).reshape((5, 3))\n",
    "second_array = np.arange(6).reshape((3, 2))\n",
    "print(f\"1)\\n{first_array}\\n2)\\n{second_array}\\n\")\n",
    "a_1 = np.dot(first_array, second_array)\n",
    "a_2 = first_array.dot(second_array)\n",
    "a_3 = first_array@second_array\n",
    "print(f\"answer:\\n{a_1}\")\n",
    "equality = [np.equal(a_1, a_2) & np.equal(a_2, a_3)]\n",
    "np.all(equality)"
   ]
  },
  {
   "cell_type": "markdown",
   "id": "b3b2cd1e-e996-45e0-b9ed-e12ce653a9c3",
   "metadata": {},
   "source": [
    "5. Как получить все даты, соответствующие июлю 2016 года?"
   ]
  },
  {
   "cell_type": "code",
   "execution_count": 41,
   "id": "c40ef785-d750-42ba-ac6e-b777866202a6",
   "metadata": {},
   "outputs": [
    {
     "data": {
      "text/plain": [
       "array(['2016-07-01', '2016-07-02', '2016-07-03', '2016-07-04',\n",
       "       '2016-07-05', '2016-07-06', '2016-07-07', '2016-07-08',\n",
       "       '2016-07-09', '2016-07-10', '2016-07-11', '2016-07-12',\n",
       "       '2016-07-13', '2016-07-14', '2016-07-15', '2016-07-16',\n",
       "       '2016-07-17', '2016-07-18', '2016-07-19', '2016-07-20',\n",
       "       '2016-07-21', '2016-07-22', '2016-07-23', '2016-07-24',\n",
       "       '2016-07-25', '2016-07-26', '2016-07-27', '2016-07-28',\n",
       "       '2016-07-29', '2016-07-30', '2016-07-31'], dtype='datetime64[D]')"
      ]
     },
     "execution_count": 41,
     "metadata": {},
     "output_type": "execute_result"
    }
   ],
   "source": [
    "np.arange('2016-07', '2016-08', dtype='datetime64[D]')"
   ]
  },
  {
   "cell_type": "markdown",
   "id": "8108b3a8-5ba8-472d-ad6b-095ade8678ef",
   "metadata": {},
   "source": [
    "6. Создайте матрицу размером 5х5 со случайными значениями строк в диапазоне от 0 до 4"
   ]
  },
  {
   "cell_type": "code",
   "execution_count": 44,
   "id": "89b58c0a-bd5d-435a-be45-719fdfce662a",
   "metadata": {},
   "outputs": [
    {
     "data": {
      "text/plain": [
       "array([[4, 3, 1, 2, 2],\n",
       "       [2, 3, 0, 1, 2],\n",
       "       [1, 4, 4, 1, 0],\n",
       "       [0, 1, 1, 4, 4],\n",
       "       [2, 4, 0, 2, 1]])"
      ]
     },
     "execution_count": 44,
     "metadata": {},
     "output_type": "execute_result"
    }
   ],
   "source": [
    "seed = 52\n",
    "rng = np.random.default_rng(seed=seed)\n",
    "rng.integers(low=0, high=5, size=25).reshape(5, 5)"
   ]
  },
  {
   "cell_type": "markdown",
   "id": "98511652-db85-4506-a5b8-f94b05d35ce9",
   "metadata": {},
   "source": [
    "7. Создайте вектор размером 10 со значениями в диапазоне от $(0, 1)$"
   ]
  },
  {
   "cell_type": "code",
   "execution_count": 57,
   "id": "ca72cdb0-ed24-460d-81a9-220b850d62c3",
   "metadata": {},
   "outputs": [
    {
     "data": {
      "text/plain": [
       "(array([0.81207239, 0.14960361, 0.86472171, 0.56359034, 0.43984039,\n",
       "        0.01032552, 0.18337542, 0.27824419, 0.9283804 , 0.38486705]),\n",
       " (10,))"
      ]
     },
     "execution_count": 57,
     "metadata": {},
     "output_type": "execute_result"
    }
   ],
   "source": [
    "v = rng.random(10) \n",
    "v, v.shape"
   ]
  },
  {
   "cell_type": "markdown",
   "id": "1412a70a-2a1e-406e-a227-afc9a47ed659",
   "metadata": {},
   "source": [
    "8. Выведите минимальное и максимальное представимое значение для каждого скалярного типа numpy"
   ]
  },
  {
   "cell_type": "code",
   "execution_count": 66,
   "id": "22bb8bbf-52dd-4d3c-86c0-c4e9637b909b",
   "metadata": {},
   "outputs": [
    {
     "name": "stdout",
     "output_type": "stream",
     "text": [
      "int8 max = 127, min = -128\n",
      "int16 max = 32767, min = -32768\n",
      "int32 max = 2147483647, min = -2147483648\n",
      "int64 max = 9223372036854775807, min = -9223372036854775808\n",
      "float16 max = 65504.0, min = -65504.0\n",
      "float32 max = 3.4028234663852886e+38, min = -3.4028234663852886e+38\n",
      "float64 max = 1.7976931348623157e+308, min = -1.7976931348623157e+308\n"
     ]
    }
   ],
   "source": [
    "types = [np.int8, np.int16, np.int32, np.int64, np.float16, np.float32, np.float64]\n",
    "for dtype in types:\n",
    "    if np.issubdtype(dtype, np.integer):\n",
    "        info = np.iinfo(dtype)\n",
    "    else:\n",
    "        info = np.finfo(dtype)\n",
    "\n",
    "    print(f\"{dtype.__name__} max = {info.max}, min = {info.min}\")"
   ]
  },
  {
   "cell_type": "markdown",
   "id": "f7dc66bf-f7c8-4d78-834b-451651f6839a",
   "metadata": {},
   "source": [
    "9. Как отсортировать массив по n-му столбцу?"
   ]
  },
  {
   "cell_type": "code",
   "execution_count": null,
   "id": "0ecf5586-d30e-4256-ab93-7ff9bab0b34b",
   "metadata": {},
   "outputs": [
    {
     "data": {
      "text/plain": [
       "([(1, 0), (1, 9), (3, 0), (4, 1), (4, 2), (4, 4), (5, 4)],\n",
       " array([2, 0, 4, 6, 5, 3, 1]))"
      ]
     },
     "execution_count": 139,
     "metadata": {},
     "output_type": "execute_result"
    }
   ],
   "source": [
    "?"
   ]
  },
  {
   "cell_type": "markdown",
   "id": "a66194f1-0099-4808-8ebf-5cf10eee5071",
   "metadata": {},
   "source": [
    "10. Как определить, есть ли в данном двумерном массиве пустые столбцы?"
   ]
  },
  {
   "cell_type": "code",
   "execution_count": 145,
   "id": "07ed452c-3f7c-40a7-a5b5-716602a5eed9",
   "metadata": {},
   "outputs": [
    {
     "data": {
      "text/plain": [
       "array([ True, False,  True,  True])"
      ]
     },
     "execution_count": 145,
     "metadata": {},
     "output_type": "execute_result"
    }
   ],
   "source": [
    "array = np.array([\n",
    "    [0, 1, np.nan, -1],\n",
    "    [0, 2, np.nan, -1],\n",
    "    [0, 3, np.nan, -1]\n",
    "])\n",
    "\n",
    "empty_columns = np.all((array == 0) | np.isnan(array) | (array == -1), axis=0)\n",
    "empty_columns"
   ]
  },
  {
   "cell_type": "markdown",
   "id": "5bd0f757-bb01-4afb-b4f0-6821b5c5b2b7",
   "metadata": {},
   "source": [
    "### 2. Pandas"
   ]
  },
  {
   "cell_type": "markdown",
   "id": "bdffd013-e573-4318-8062-65ae1c5e07e8",
   "metadata": {},
   "source": [
    "Найдите ответы на вопросы или выполните действия с предложенным датасетом \n",
    "\n",
    "Набор данных для изучения зависимости различных параметров тела человека.\n",
    "\n",
    "Файл: `data.csv`\n",
    "\n",
    "```\n",
    "Height (cm) - рост человека в сантиметрах\n",
    "Weight (kg) - вес человека в килограммах\n",
    "Blood Pressure (s/d) - кровяное давление(systolic/diastolic) в mmHg.\n",
    "Cholesterol Level (mg/dL) - уровень холестерина milligrams per deciliter.\n",
    "BMI - Body Mass Index, рассчитывается по весу и росту.\n",
    "Blood Glucose Level (mg/dL) - уровень глюкозы в крови milligrams per deciliter.\n",
    "Bone Density (g/cm²) - плотность костной массы grams per square centimeter.\n",
    "Vision Sharpness - четкость зрения от 0 (полностью размыто) до 100 (идеально).\n",
    "Hearing Ability (dB) - способность воспринимать звуки в dB.\n",
    "Physical Activity Level - уровень физической активности 'Low', 'Moderate', или 'High'.\n",
    "Smoking Status - статус курильщика 'Never', 'Former', и 'Current'.\n",
    "Alcohol Consumption - частота принятия алкоголя.\n",
    "Diet - тип диеты. Категоризован на 'Balanced', 'High Protein', 'Low Carb', и т.п.\n",
    "Chronic Diseases - наличие хронических заболеваний (e.g., diabetes, hypertension).\n",
    "Medication Use - использование медикаментов.\n",
    "Family History - наличие в семейном анамнезе возрастных заболеваний.\n",
    "Cognitive Function - самооценка когнитивных функций по шкале от 0 (плохая) до 100 (отличная).\n",
    "Mental Health Status - самооценка состояния психического здоровья по шкале от 0 (плохое) до 100 (отличное).\n",
    "Sleep Patterns - среднее кол-во сна за ночь.\n",
    "Stress Levels - самооценка уровня стресса по шкале от 0 (низкий) до 100 (высокий).\n",
    "Pollution Exposure - воздействие загрязнения, измеряемое в произвольных единицах измерения.\n",
    "Sun Exposure - среднее время пребывания на солнце в часах в неделю.\n",
    "Education Level - уровень образования.\n",
    "Income Level - доход в USD.\n",
    "```"
   ]
  },
  {
   "cell_type": "code",
   "execution_count": 2,
   "id": "0778ec2b-a7b2-4738-b771-bb1781986f62",
   "metadata": {},
   "outputs": [],
   "source": [
    "import pandas as pd"
   ]
  },
  {
   "cell_type": "code",
   "execution_count": 21,
   "id": "bfc45614-d44b-49bd-a55c-c410a95a808f",
   "metadata": {},
   "outputs": [],
   "source": [
    "# Load dataset here"
   ]
  },
  {
   "cell_type": "markdown",
   "id": "1026e8c6-513a-41e3-b2f4-68aae18b8435",
   "metadata": {},
   "source": [
    "1. Какой средний вес людей представленных в наборе данных?"
   ]
  },
  {
   "cell_type": "code",
   "execution_count": null,
   "id": "e74655aa-b97c-42e5-b972-e0753ddc2331",
   "metadata": {},
   "outputs": [],
   "source": []
  },
  {
   "cell_type": "markdown",
   "id": "eee028a5-9311-4a4f-b4ac-1fb75acfb4b3",
   "metadata": {},
   "source": [
    "2. Сбалансировано ли соотношение мужчин и женщин в наборе данных?"
   ]
  },
  {
   "cell_type": "code",
   "execution_count": null,
   "id": "ac0fb641-96d2-4e7c-88d5-636ce3b699d2",
   "metadata": {},
   "outputs": [],
   "source": []
  },
  {
   "cell_type": "markdown",
   "id": "cd7979ba-2fa8-4fd3-986d-26cee122da1f",
   "metadata": {},
   "source": [
    "3. Правда ли, что люди с высоким уровнем стресса имеют более высокое кровяное давление, чем те, кто не подвержен стрессу"
   ]
  },
  {
   "cell_type": "code",
   "execution_count": null,
   "id": "3915f77b-116c-482b-8644-2f5f11931af9",
   "metadata": {},
   "outputs": [],
   "source": []
  },
  {
   "cell_type": "markdown",
   "id": "1b69ba67-61a8-4765-9795-cfab1a09e929",
   "metadata": {},
   "source": [
    "4. Правда ли, что уровень холестерина у мужчин и женщин отличается?"
   ]
  },
  {
   "cell_type": "code",
   "execution_count": null,
   "id": "1228d2e9-fc56-4240-95c6-c98a8b84c016",
   "metadata": {},
   "outputs": [],
   "source": []
  },
  {
   "cell_type": "markdown",
   "id": "5acec4fd-f740-49a8-a5d8-562d358239c9",
   "metadata": {},
   "source": [
    "5. Правда ли, что с возрастом женщины имеют свойство оценивать свои когнитивные способности хуже, чем в юности (порог юности - 30 лет, женщина в возрасте - 60 лет+)"
   ]
  },
  {
   "cell_type": "code",
   "execution_count": null,
   "id": "cac8daef-f4e8-4c8b-b7f4-d41a6adf35ed",
   "metadata": {},
   "outputs": [],
   "source": []
  },
  {
   "cell_type": "markdown",
   "id": "8d6171a9-0f75-4f3e-ac54-95d03d1f70b6",
   "metadata": {},
   "source": [
    "6. Влияет ли физическая активность на вес в возрасте более 50 лет?"
   ]
  },
  {
   "cell_type": "code",
   "execution_count": null,
   "id": "c64d0892-2fb8-4304-966c-5cbb32b03c0a",
   "metadata": {},
   "outputs": [],
   "source": []
  },
  {
   "cell_type": "markdown",
   "id": "d29320f9-aef8-452c-9d61-0afa72dd93b6",
   "metadata": {},
   "source": [
    "7. Сравните минимальный вес мужчин с высоким и низким заработком"
   ]
  },
  {
   "cell_type": "code",
   "execution_count": null,
   "id": "0147fd34-a865-4101-84da-1345b5d91864",
   "metadata": {},
   "outputs": [],
   "source": []
  },
  {
   "cell_type": "markdown",
   "id": "1d447d6e-cfde-411c-9078-cd8f41f02d8b",
   "metadata": {},
   "source": [
    "8. Правда ли, что у людей с индексом массы тела больше 75го перцентиля встречаются хронические заболевания чаще, чем у людей с индесом массы тела в переделах от 30 до 60 перцентиля?"
   ]
  },
  {
   "cell_type": "code",
   "execution_count": null,
   "id": "b30df6b1-5eca-43da-a115-1c1a3cbfd899",
   "metadata": {},
   "outputs": [],
   "source": []
  },
  {
   "cell_type": "markdown",
   "id": "c41d5d99-65f7-4d17-82ae-971ec959f327",
   "metadata": {},
   "source": [
    "9. Правда ли, что люди с высоким уровнем дохода имеют больший уровень физической активности, чем люди с низким доходом"
   ]
  },
  {
   "cell_type": "code",
   "execution_count": null,
   "id": "275bcc04-659b-4521-a9e5-200a5f4ef674",
   "metadata": {},
   "outputs": [],
   "source": []
  },
  {
   "cell_type": "markdown",
   "id": "a1f7a5c0-259c-4837-a5d1-2dfc05e7c13e",
   "metadata": {},
   "source": [
    "10. Какая доля мужчин с высокой частотой пребывания на солнце имеет высокий заработок?"
   ]
  },
  {
   "cell_type": "code",
   "execution_count": null,
   "id": "a2da4d57-edb4-4179-8bee-3deda6cd00e6",
   "metadata": {},
   "outputs": [],
   "source": []
  },
  {
   "cell_type": "markdown",
   "id": "deb4ca3a-3d8a-4205-bee9-d26fd28638b2",
   "metadata": {},
   "source": [
    "### 3. Визуализация"
   ]
  },
  {
   "cell_type": "markdown",
   "id": "f8941ce1-cbf2-465a-b013-1b84aeb999ef",
   "metadata": {},
   "source": [
    "Используя библиотеки matplotlib/sns/plotly/pandas и набор данных представленный ранее визуализируйте"
   ]
  },
  {
   "cell_type": "markdown",
   "id": "5e98ce6f-8d02-4120-ad85-241494c038d6",
   "metadata": {},
   "source": [
    "1. Визуализируйте частоту встречаемых хронических заболеваний"
   ]
  },
  {
   "cell_type": "code",
   "execution_count": null,
   "id": "664666b2-17b7-49dd-a3bd-c4be9361755d",
   "metadata": {},
   "outputs": [],
   "source": []
  },
  {
   "cell_type": "markdown",
   "id": "4c7500bb-36ca-4ea7-bc3c-4f15afbd4c41",
   "metadata": {},
   "source": [
    "2. Как связана оценка собственных когнитивных функций с уровнем стресса?"
   ]
  },
  {
   "cell_type": "code",
   "execution_count": null,
   "id": "7325e7f8-5f00-4a82-8184-7064505f7ccd",
   "metadata": {},
   "outputs": [],
   "source": []
  },
  {
   "cell_type": "markdown",
   "id": "efdd0669-36e0-4708-ac6b-ad0d92881113",
   "metadata": {},
   "source": [
    "3. Визуализируйте как зависит вес от роста человека"
   ]
  },
  {
   "cell_type": "code",
   "execution_count": null,
   "id": "7504a170-04a1-4b86-924d-8d46be16fd3c",
   "metadata": {},
   "outputs": [],
   "source": []
  },
  {
   "cell_type": "markdown",
   "id": "b5839a48-e992-45fc-81ee-59cb5aa79dda",
   "metadata": {},
   "source": [
    "4. Постройте box plot отображающий распределение уровня стресса у людей с различным уровнем дохода"
   ]
  },
  {
   "cell_type": "code",
   "execution_count": null,
   "id": "1a942378-45ea-47a0-bac9-488960491613",
   "metadata": {},
   "outputs": [],
   "source": []
  },
  {
   "cell_type": "markdown",
   "id": "d4c97bef-bb64-43cc-a89f-7510174492ec",
   "metadata": {},
   "source": [
    "5. Постройте круговую диаграмму отображающую как ментальное здоровье связано с паттернами сна"
   ]
  },
  {
   "cell_type": "code",
   "execution_count": null,
   "id": "a1f444af-3544-432c-8dc6-bb74d4cff272",
   "metadata": {},
   "outputs": [],
   "source": []
  },
  {
   "cell_type": "markdown",
   "id": "16249674-e680-4ab0-a16a-4e98c24202ed",
   "metadata": {},
   "source": [
    "6. Имеет ли связь зрение и способность слышать звуки на высоких частотах? Ответьте на вопрос - какая зависимость между ними и предположите почему зависимость именно такая?"
   ]
  },
  {
   "cell_type": "code",
   "execution_count": null,
   "id": "fb885fd6-e539-4227-8fcf-2eee4c99f598",
   "metadata": {},
   "outputs": [],
   "source": []
  },
  {
   "cell_type": "markdown",
   "id": "16afdeec-8c90-4ed1-a599-e0b1343bbf5c",
   "metadata": {},
   "source": [
    "7. Красиво визуализируйте как связаны между собой уровень дохода, когнитивные способности и уровень стресса*\n",
    "\n",
    "\\* Задание на доп. балл"
   ]
  },
  {
   "cell_type": "code",
   "execution_count": null,
   "id": "e10d0cc7-a1ca-4204-a875-b1660e44618d",
   "metadata": {},
   "outputs": [],
   "source": []
  }
 ],
 "metadata": {
  "kernelspec": {
   "display_name": "Python 3",
   "language": "python",
   "name": "python3"
  },
  "language_info": {
   "codemirror_mode": {
    "name": "ipython",
    "version": 3
   },
   "file_extension": ".py",
   "mimetype": "text/x-python",
   "name": "python",
   "nbconvert_exporter": "python",
   "pygments_lexer": "ipython3",
   "version": "3.11.11"
  }
 },
 "nbformat": 4,
 "nbformat_minor": 5
}
